{
 "cells": [
  {
   "cell_type": "raw",
   "metadata": {
    "colab_type": "text",
    "id": "view-in-github"
   },
   "source": [
    "<a href=\"https://colab.research.google.com/github/18bce7036/18bce7036/blob/main/America_top_colleges.ipynb\" target=\"_parent\"><img src=\"https://colab.research.google.com/assets/colab-badge.svg\" alt=\"Open In Colab\"/></a>"
   ]
  },
  {
   "cell_type": "code",
   "execution_count": 2,
   "metadata": {
    "id": "h5arqcG95TAR"
   },
   "outputs": [],
   "source": [
    "import pandas as pd\n",
    "import numpy as np\n",
    "import matplotlib.pyplot as plt\n",
    "import seaborn as sns"
   ]
  },
  {
   "cell_type": "code",
   "execution_count": 3,
   "metadata": {
    "colab": {
     "base_uri": "https://localhost:8080/",
     "height": 358
    },
    "id": "6bdZGiTR6elT",
    "outputId": "b37b1712-506a-43ad-ce50-5d741858782f"
   },
   "outputs": [
    {
     "data": {
      "text/html": [
       "<div>\n",
       "<style scoped>\n",
       "    .dataframe tbody tr th:only-of-type {\n",
       "        vertical-align: middle;\n",
       "    }\n",
       "\n",
       "    .dataframe tbody tr th {\n",
       "        vertical-align: top;\n",
       "    }\n",
       "\n",
       "    .dataframe thead th {\n",
       "        text-align: right;\n",
       "    }\n",
       "</style>\n",
       "<table border=\"1\" class=\"dataframe\">\n",
       "  <thead>\n",
       "    <tr style=\"text-align: right;\">\n",
       "      <th></th>\n",
       "      <th>Rank</th>\n",
       "      <th>Name</th>\n",
       "      <th>City</th>\n",
       "      <th>State</th>\n",
       "      <th>Public/Private</th>\n",
       "      <th>Undergraduate Population</th>\n",
       "      <th>Student Population</th>\n",
       "      <th>Net Price</th>\n",
       "      <th>Average Grant Aid</th>\n",
       "      <th>Total Annual Cost</th>\n",
       "      <th>Alumni Salary</th>\n",
       "      <th>Acceptance Rate</th>\n",
       "      <th>SAT Lower</th>\n",
       "      <th>SAT Upper</th>\n",
       "      <th>ACT Lower</th>\n",
       "      <th>ACT Upper</th>\n",
       "      <th>Website</th>\n",
       "    </tr>\n",
       "  </thead>\n",
       "  <tbody>\n",
       "    <tr>\n",
       "      <th>0</th>\n",
       "      <td>1.0</td>\n",
       "      <td>Harvard University</td>\n",
       "      <td>Cambridge</td>\n",
       "      <td>MA</td>\n",
       "      <td>Private</td>\n",
       "      <td>13844.0</td>\n",
       "      <td>31120.0</td>\n",
       "      <td>14327.0</td>\n",
       "      <td>49870.0</td>\n",
       "      <td>69600.0</td>\n",
       "      <td>146800.0</td>\n",
       "      <td>5.0</td>\n",
       "      <td>1460.0</td>\n",
       "      <td>1590.0</td>\n",
       "      <td>32.0</td>\n",
       "      <td>35.0</td>\n",
       "      <td>www.harvard.edu</td>\n",
       "    </tr>\n",
       "    <tr>\n",
       "      <th>1</th>\n",
       "      <td>2.0</td>\n",
       "      <td>Stanford University</td>\n",
       "      <td>Stanford</td>\n",
       "      <td>CA</td>\n",
       "      <td>Private</td>\n",
       "      <td>8402.0</td>\n",
       "      <td>17534.0</td>\n",
       "      <td>13261.0</td>\n",
       "      <td>50134.0</td>\n",
       "      <td>69109.0</td>\n",
       "      <td>145200.0</td>\n",
       "      <td>5.0</td>\n",
       "      <td>1390.0</td>\n",
       "      <td>1540.0</td>\n",
       "      <td>32.0</td>\n",
       "      <td>35.0</td>\n",
       "      <td>www.stanford.edu</td>\n",
       "    </tr>\n",
       "    <tr>\n",
       "      <th>2</th>\n",
       "      <td>3.0</td>\n",
       "      <td>Yale University</td>\n",
       "      <td>New Haven</td>\n",
       "      <td>CT</td>\n",
       "      <td>Private</td>\n",
       "      <td>6483.0</td>\n",
       "      <td>12974.0</td>\n",
       "      <td>18627.0</td>\n",
       "      <td>50897.0</td>\n",
       "      <td>71290.0</td>\n",
       "      <td>138300.0</td>\n",
       "      <td>7.0</td>\n",
       "      <td>1460.0</td>\n",
       "      <td>1580.0</td>\n",
       "      <td>32.0</td>\n",
       "      <td>35.0</td>\n",
       "      <td>www.yale.edu</td>\n",
       "    </tr>\n",
       "    <tr>\n",
       "      <th>3</th>\n",
       "      <td>4.0</td>\n",
       "      <td>Massachusetts Institute of Technology</td>\n",
       "      <td>Cambridge</td>\n",
       "      <td>MA</td>\n",
       "      <td>Private</td>\n",
       "      <td>4680.0</td>\n",
       "      <td>11466.0</td>\n",
       "      <td>20771.0</td>\n",
       "      <td>43248.0</td>\n",
       "      <td>67430.0</td>\n",
       "      <td>155200.0</td>\n",
       "      <td>7.0</td>\n",
       "      <td>1490.0</td>\n",
       "      <td>1570.0</td>\n",
       "      <td>33.0</td>\n",
       "      <td>35.0</td>\n",
       "      <td>web.mit.edu</td>\n",
       "    </tr>\n",
       "    <tr>\n",
       "      <th>4</th>\n",
       "      <td>5.0</td>\n",
       "      <td>Princeton University</td>\n",
       "      <td>Princeton</td>\n",
       "      <td>NJ</td>\n",
       "      <td>Private</td>\n",
       "      <td>5659.0</td>\n",
       "      <td>8273.0</td>\n",
       "      <td>9327.0</td>\n",
       "      <td>48088.0</td>\n",
       "      <td>66150.0</td>\n",
       "      <td>139400.0</td>\n",
       "      <td>6.0</td>\n",
       "      <td>1430.0</td>\n",
       "      <td>1570.0</td>\n",
       "      <td>31.0</td>\n",
       "      <td>35.0</td>\n",
       "      <td>www.princeton.edu</td>\n",
       "    </tr>\n",
       "  </tbody>\n",
       "</table>\n",
       "</div>"
      ],
      "text/plain": [
       "   Rank                                   Name  ... ACT Upper            Website\n",
       "0   1.0                     Harvard University  ...      35.0    www.harvard.edu\n",
       "1   2.0                    Stanford University  ...      35.0   www.stanford.edu\n",
       "2   3.0                        Yale University  ...      35.0       www.yale.edu\n",
       "3   4.0  Massachusetts Institute of Technology  ...      35.0        web.mit.edu\n",
       "4   5.0                   Princeton University  ...      35.0  www.princeton.edu\n",
       "\n",
       "[5 rows x 17 columns]"
      ]
     },
     "execution_count": 3,
     "metadata": {
      "tags": []
     },
     "output_type": "execute_result"
    }
   ],
   "source": [
    "df=pd.read_csv('/content/ForbesAmericasTopColleges2019.csv')\n",
    "df.head()"
   ]
  },
  {
   "cell_type": "code",
   "execution_count": 4,
   "metadata": {
    "colab": {
     "base_uri": "https://localhost:8080/"
    },
    "id": "nGdZiyqx6mJB",
    "outputId": "99c8e68d-f3ec-4a7b-fb91-eca9dfa78e11"
   },
   "outputs": [
    {
     "name": "stdout",
     "output_type": "stream",
     "text": [
      "<class 'pandas.core.frame.DataFrame'>\n",
      "RangeIndex: 650 entries, 0 to 649\n",
      "Data columns (total 17 columns):\n",
      " #   Column                    Non-Null Count  Dtype  \n",
      "---  ------                    --------------  -----  \n",
      " 0   Rank                      650 non-null    float64\n",
      " 1   Name                      650 non-null    object \n",
      " 2   City                      647 non-null    object \n",
      " 3   State                     650 non-null    object \n",
      " 4   Public/Private            650 non-null    object \n",
      " 5   Undergraduate Population  650 non-null    float64\n",
      " 6   Student Population        650 non-null    float64\n",
      " 7   Net Price                 648 non-null    float64\n",
      " 8   Average Grant Aid         646 non-null    float64\n",
      " 9   Total Annual Cost         650 non-null    float64\n",
      " 10  Alumni Salary             635 non-null    float64\n",
      " 11  Acceptance Rate           648 non-null    float64\n",
      " 12  SAT Lower                 551 non-null    float64\n",
      " 13  SAT Upper                 551 non-null    float64\n",
      " 14  ACT Lower                 553 non-null    float64\n",
      " 15  ACT Upper                 553 non-null    float64\n",
      " 16  Website                   645 non-null    object \n",
      "dtypes: float64(12), object(5)\n",
      "memory usage: 86.5+ KB\n"
     ]
    }
   ],
   "source": [
    "df.info()"
   ]
  },
  {
   "cell_type": "code",
   "execution_count": 5,
   "metadata": {
    "colab": {
     "base_uri": "https://localhost:8080/"
    },
    "id": "zEEygmKO6qdI",
    "outputId": "256af321-8c64-4104-f874-7a20bc7b2839"
   },
   "outputs": [
    {
     "data": {
      "text/plain": [
       "Rank                         0\n",
       "Name                         0\n",
       "City                         3\n",
       "State                        0\n",
       "Public/Private               0\n",
       "Undergraduate Population     0\n",
       "Student Population           0\n",
       "Net Price                    2\n",
       "Average Grant Aid            4\n",
       "Total Annual Cost            0\n",
       "Alumni Salary               15\n",
       "Acceptance Rate              2\n",
       "SAT Lower                   99\n",
       "SAT Upper                   99\n",
       "ACT Lower                   97\n",
       "ACT Upper                   97\n",
       "Website                      5\n",
       "dtype: int64"
      ]
     },
     "execution_count": 5,
     "metadata": {
      "tags": []
     },
     "output_type": "execute_result"
    }
   ],
   "source": [
    "df.isnull().sum()"
   ]
  },
  {
   "cell_type": "code",
   "execution_count": 6,
   "metadata": {
    "colab": {
     "base_uri": "https://localhost:8080/",
     "height": 330
    },
    "id": "9I5wolrS7jOd",
    "outputId": "3d1887ec-421d-41d4-fa36-4b390b74b75b"
   },
   "outputs": [
    {
     "data": {
      "text/html": [
       "<div>\n",
       "<style scoped>\n",
       "    .dataframe tbody tr th:only-of-type {\n",
       "        vertical-align: middle;\n",
       "    }\n",
       "\n",
       "    .dataframe tbody tr th {\n",
       "        vertical-align: top;\n",
       "    }\n",
       "\n",
       "    .dataframe thead th {\n",
       "        text-align: right;\n",
       "    }\n",
       "</style>\n",
       "<table border=\"1\" class=\"dataframe\">\n",
       "  <thead>\n",
       "    <tr style=\"text-align: right;\">\n",
       "      <th></th>\n",
       "      <th>Rank</th>\n",
       "      <th>Name</th>\n",
       "      <th>City</th>\n",
       "      <th>State</th>\n",
       "      <th>Public/Private</th>\n",
       "      <th>Undergraduate Population</th>\n",
       "      <th>Student Population</th>\n",
       "      <th>Net Price</th>\n",
       "      <th>Average Grant Aid</th>\n",
       "      <th>Total Annual Cost</th>\n",
       "      <th>Alumni Salary</th>\n",
       "      <th>Acceptance Rate</th>\n",
       "      <th>SAT Lower</th>\n",
       "      <th>SAT Upper</th>\n",
       "      <th>ACT Lower</th>\n",
       "      <th>ACT Upper</th>\n",
       "      <th>Website</th>\n",
       "    </tr>\n",
       "  </thead>\n",
       "  <tbody>\n",
       "    <tr>\n",
       "      <th>302</th>\n",
       "      <td>303.0</td>\n",
       "      <td>Maryland Institute College of Art</td>\n",
       "      <td>NaN</td>\n",
       "      <td>MD</td>\n",
       "      <td>Private</td>\n",
       "      <td>2041.0</td>\n",
       "      <td>2128.0</td>\n",
       "      <td>38763.0</td>\n",
       "      <td>18939.0</td>\n",
       "      <td>62850.0</td>\n",
       "      <td>84500.0</td>\n",
       "      <td>62.0</td>\n",
       "      <td>1060.0</td>\n",
       "      <td>1290.0</td>\n",
       "      <td>24.0</td>\n",
       "      <td>29.0</td>\n",
       "      <td>NaN</td>\n",
       "    </tr>\n",
       "    <tr>\n",
       "      <th>401</th>\n",
       "      <td>402.0</td>\n",
       "      <td>California Institute of the Arts</td>\n",
       "      <td>NaN</td>\n",
       "      <td>CA</td>\n",
       "      <td>Private</td>\n",
       "      <td>991.0</td>\n",
       "      <td>1498.0</td>\n",
       "      <td>46101.0</td>\n",
       "      <td>15401.0</td>\n",
       "      <td>68993.0</td>\n",
       "      <td>91000.0</td>\n",
       "      <td>24.0</td>\n",
       "      <td>NaN</td>\n",
       "      <td>NaN</td>\n",
       "      <td>NaN</td>\n",
       "      <td>NaN</td>\n",
       "      <td>NaN</td>\n",
       "    </tr>\n",
       "    <tr>\n",
       "      <th>403</th>\n",
       "      <td>404.0</td>\n",
       "      <td>Berklee College of Music</td>\n",
       "      <td>NaN</td>\n",
       "      <td>MA</td>\n",
       "      <td>Private</td>\n",
       "      <td>6762.0</td>\n",
       "      <td>6952.0</td>\n",
       "      <td>47270.0</td>\n",
       "      <td>19811.0</td>\n",
       "      <td>63574.0</td>\n",
       "      <td>84200.0</td>\n",
       "      <td>53.0</td>\n",
       "      <td>NaN</td>\n",
       "      <td>NaN</td>\n",
       "      <td>NaN</td>\n",
       "      <td>NaN</td>\n",
       "      <td>NaN</td>\n",
       "    </tr>\n",
       "  </tbody>\n",
       "</table>\n",
       "</div>"
      ],
      "text/plain": [
       "      Rank                               Name  ... ACT Upper Website\n",
       "302  303.0  Maryland Institute College of Art  ...      29.0     NaN\n",
       "401  402.0   California Institute of the Arts  ...       NaN     NaN\n",
       "403  404.0           Berklee College of Music  ...       NaN     NaN\n",
       "\n",
       "[3 rows x 17 columns]"
      ]
     },
     "execution_count": 6,
     "metadata": {
      "tags": []
     },
     "output_type": "execute_result"
    }
   ],
   "source": [
    "df[df['City'].isnull()==True]"
   ]
  },
  {
   "cell_type": "code",
   "execution_count": 7,
   "metadata": {
    "colab": {
     "base_uri": "https://localhost:8080/"
    },
    "id": "Sf8Yk_MA7yEQ",
    "outputId": "d6371e8d-e56c-4e5b-a10a-49386386885a"
   },
   "outputs": [
    {
     "data": {
      "text/plain": [
       "Rank                         0\n",
       "Name                         0\n",
       "City                         0\n",
       "State                        0\n",
       "Public/Private               0\n",
       "Undergraduate Population     0\n",
       "Student Population           0\n",
       "Net Price                    2\n",
       "Average Grant Aid            4\n",
       "Total Annual Cost            0\n",
       "Alumni Salary               15\n",
       "Acceptance Rate              2\n",
       "SAT Lower                   99\n",
       "SAT Upper                   99\n",
       "ACT Lower                   97\n",
       "ACT Upper                   97\n",
       "Website                      5\n",
       "dtype: int64"
      ]
     },
     "execution_count": 7,
     "metadata": {
      "tags": []
     },
     "output_type": "execute_result"
    }
   ],
   "source": [
    "df['City'].fillna('California',inplace=True)\n",
    "df.isnull().sum()"
   ]
  },
  {
   "cell_type": "code",
   "execution_count": 8,
   "metadata": {
    "id": "Hz5ctk9U8Lm0"
   },
   "outputs": [],
   "source": [
    "df['Net Price'].fillna(int(df['Net Price'].mean()), inplace=True)\n",
    "df['Average Grant Aid'].fillna(int(df['Average Grant Aid'].mean()), inplace=True)\n",
    "df['Alumni Salary'].fillna(int(df['Alumni Salary'].mean()),inplace=True)\n",
    "df['SAT Lower'].fillna(int(df['SAT Lower'].mean()),inplace=True)\n",
    "df['SAT Upper'].fillna(int(df['SAT Upper'].mean()),inplace=True)\n",
    "df['ACT Lower'].fillna(int(df['ACT Lower'].mean()),inplace=True)\n",
    "df['ACT Upper'].fillna(int(df['ACT Upper'].mean()),inplace=True)\n",
    "df['ACT Upper'].fillna(int(df['ACT Upper'].mean()),inplace=True)\n",
    "df['Acceptance Rate'].fillna(int(df['Acceptance Rate'].mean()),inplace=True)"
   ]
  },
  {
   "cell_type": "code",
   "execution_count": 9,
   "metadata": {
    "colab": {
     "base_uri": "https://localhost:8080/"
    },
    "id": "XFKXKGL-9hzC",
    "outputId": "5197e00f-b0f1-425b-a321-a7f2e9fbb8d8"
   },
   "outputs": [
    {
     "data": {
      "text/plain": [
       "Rank                        0\n",
       "Name                        0\n",
       "City                        0\n",
       "State                       0\n",
       "Public/Private              0\n",
       "Undergraduate Population    0\n",
       "Student Population          0\n",
       "Net Price                   0\n",
       "Average Grant Aid           0\n",
       "Total Annual Cost           0\n",
       "Alumni Salary               0\n",
       "Acceptance Rate             0\n",
       "SAT Lower                   0\n",
       "SAT Upper                   0\n",
       "ACT Lower                   0\n",
       "ACT Upper                   0\n",
       "Website                     5\n",
       "dtype: int64"
      ]
     },
     "execution_count": 9,
     "metadata": {
      "tags": []
     },
     "output_type": "execute_result"
    }
   ],
   "source": [
    "df.isnull().sum()"
   ]
  },
  {
   "cell_type": "code",
   "execution_count": 10,
   "metadata": {
    "colab": {
     "base_uri": "https://localhost:8080/",
     "height": 366
    },
    "id": "_Ot8fO5U-CzA",
    "outputId": "08162a81-445e-4a2f-9687-1acc5421e3a1"
   },
   "outputs": [
    {
     "name": "stderr",
     "output_type": "stream",
     "text": [
      "/usr/local/lib/python3.7/dist-packages/seaborn/_decorators.py:43: FutureWarning: Pass the following variable as a keyword arg: x. From version 0.12, the only valid positional argument will be `data`, and passing other arguments without an explicit keyword will result in an error or misinterpretation.\n",
      "  FutureWarning\n"
     ]
    },
    {
     "data": {
      "text/plain": [
       "Text(0.5, 1.0, 'Type of university')"
      ]
     },
     "execution_count": 10,
     "metadata": {
      "tags": []
     },
     "output_type": "execute_result"
    },
    {
     "data": {
      "image/png": "[encoded data removed]",
      "text/plain": [
       "<Figure size 432x288 with 1 Axes>"
      ]
     },
     "metadata": {
      "needs_background": "light",
      "tags": []
     },
     "output_type": "display_data"
    }
   ],
   "source": [
    "df['Public/Private'].value_counts()\n",
    "sns.countplot(df['Public/Private'])\n",
    "plt.title(\"Type of university\")"
   ]
  },
  {
   "cell_type": "code",
   "execution_count": 46,
   "metadata": {
    "colab": {
     "base_uri": "https://localhost:8080/"
    },
    "id": "dTB-KgPgWS53",
    "outputId": "0b789985-e5df-4895-c99a-92c07c0dce96"
   },
   "outputs": [
    {
     "data": {
      "text/plain": [
       "1110.123076923077"
      ]
     },
     "execution_count": 46,
     "metadata": {
      "tags": []
     },
     "output_type": "execute_result"
    }
   ],
   "source": [
    "df['SAT Lower'].mean()"
   ]
  },
  {
   "cell_type": "code",
   "execution_count": 11,
   "metadata": {
    "colab": {
     "base_uri": "https://localhost:8080/",
     "height": 294
    },
    "id": "REpUqUow-UsK",
    "outputId": "7489276e-47a3-47b2-9645-dcb38997a8c7"
   },
   "outputs": [
    {
     "data": {
      "text/plain": [
       "Text(0.5, 1.0, 'Popular cities')"
      ]
     },
     "execution_count": 11,
     "metadata": {
      "tags": []
     },
     "output_type": "execute_result"
    },
    {
     "data": {
      "image/png": "[encoded data removed]",
      "text/plain": [
       "<Figure size 1080x216 with 1 Axes>"
      ]
     },
     "metadata": {
      "needs_background": "light",
      "tags": []
     },
     "output_type": "display_data"
    }
   ],
   "source": [
    "df['City'].value_counts()[:10].plot(kind='bar',figsize=(15, 3))\n",
    "plt.title('Popular cities')"
   ]
  },
  {
   "cell_type": "code",
   "execution_count": 33,
   "metadata": {
    "colab": {
     "base_uri": "https://localhost:8080/",
     "height": 362
    },
    "id": "g--KhbTi-kCR",
    "outputId": "2ed8287d-14c9-40c8-fb6b-453b790bbec7"
   },
   "outputs": [
    {
     "data": {
      "text/plain": [
       "<matplotlib.axes._subplots.AxesSubplot at 0x7fecc0b9c790>"
      ]
     },
     "execution_count": 33,
     "metadata": {
      "tags": []
     },
     "output_type": "execute_result"
    },
    {
     "data": {
      "image/png": "[encoded data removed]",
      "text/plain": [
       "<Figure size 432x288 with 1 Axes>"
      ]
     },
     "metadata": {
      "needs_background": "light",
      "tags": []
     },
     "output_type": "display_data"
    }
   ],
   "source": [
    "top_10=df.groupby('City')['Student Population'].mean().sort_values(ascending=False)[:10]\n",
    "top_10.plot(kind='bar')"
   ]
  },
  {
   "cell_type": "code",
   "execution_count": 34,
   "metadata": {
    "colab": {
     "base_uri": "https://localhost:8080/"
    },
    "id": "HqOL3Bs5UO_7",
    "outputId": "c9cf9ee1-4477-46d1-cd7d-a4243b23ca69"
   },
   "outputs": [
    {
     "data": {
      "text/plain": [
       "City\n",
       "Rexburg            69458.0\n",
       "College Station    67929.0\n",
       "Orlando            66059.0\n",
       "Miami              56718.0\n",
       "Gainesville        52669.0\n",
       "Minneapolis        51848.0\n",
       "Tempe              51164.0\n",
       "East Lansing       50019.0\n",
       "New Brunswick      49577.0\n",
       "Champaign          48216.0\n",
       "Name: Student Population, dtype: float64"
      ]
     },
     "execution_count": 34,
     "metadata": {
      "tags": []
     },
     "output_type": "execute_result"
    }
   ],
   "source": [
    "top_10\n"
   ]
  },
  {
   "cell_type": "code",
   "execution_count": 37,
   "metadata": {
    "colab": {
     "base_uri": "https://localhost:8080/"
    },
    "id": "qebSGqGaUSbL",
    "outputId": "1262001a-1bb3-4f79-e05c-edcb2610947b"
   },
   "outputs": [
    {
     "data": {
      "text/plain": [
       "Name\n",
       "United States Coast Guard Academy            0.0\n",
       "United States Air Force Academy              0.0\n",
       "United States Naval Academy                  0.0\n",
       "United States Military Academy               0.0\n",
       "United States Merchant Marine Academy     8646.0\n",
       "Brigham Young University-Idaho           12322.0\n",
       "Brigham Young University                 18370.0\n",
       "University of Southern Mississippi       24883.0\n",
       "University of South Dakota               25521.0\n",
       "Western Illinois University              25835.0\n",
       "Name: Total Annual Cost, dtype: float64"
      ]
     },
     "execution_count": 37,
     "metadata": {
      "tags": []
     },
     "output_type": "execute_result"
    }
   ],
   "source": [
    "top_10_cheap_university"
   ]
  },
  {
   "cell_type": "code",
   "execution_count": 35,
   "metadata": {
    "colab": {
     "base_uri": "https://localhost:8080/",
     "height": 491
    },
    "id": "phdX8zVT_HLz",
    "outputId": "916ec177-2cf9-4f65-a604-8210adbb9eac"
   },
   "outputs": [
    {
     "data": {
      "text/plain": [
       "<matplotlib.axes._subplots.AxesSubplot at 0x7fecc0a9d410>"
      ]
     },
     "execution_count": 35,
     "metadata": {
      "tags": []
     },
     "output_type": "execute_result"
    },
    {
     "data": {
      "image/png": "[encoded data removed]",
      "text/plain": [
       "<Figure size 432x288 with 1 Axes>"
      ]
     },
     "metadata": {
      "needs_background": "light",
      "tags": []
     },
     "output_type": "display_data"
    }
   ],
   "source": [
    "top_10_cheap_university=df.groupby('Name')['Total Annual Cost'].mean().sort_values(ascending=True)[:10]\n",
    "top_10_cheap_university.plot(kind='bar')\n"
   ]
  },
  {
   "cell_type": "code",
   "execution_count": 39,
   "metadata": {
    "colab": {
     "base_uri": "https://localhost:8080/"
    },
    "id": "LadpUgM6VDj7",
    "outputId": "9b52623e-4d13-4727-997d-2e6ebf4a088c"
   },
   "outputs": [
    {
     "data": {
      "text/plain": [
       "Name\n",
       "University of Chicago                 75735.0\n",
       "Harvey Mudd College                   74428.0\n",
       "Columbia University                   74199.0\n",
       "Northwestern University               72980.0\n",
       "Southern Methodist University         72408.0\n",
       "Fordham University                    72239.0\n",
       "University of Southern California     72209.0\n",
       "Washington University in St. Louis    71975.0\n",
       "Dartmouth College                     71827.0\n",
       "New York University                   71790.0\n",
       "Name: Total Annual Cost, dtype: float64"
      ]
     },
     "execution_count": 39,
     "metadata": {
      "tags": []
     },
     "output_type": "execute_result"
    }
   ],
   "source": [
    "top_10_expensive_university"
   ]
  },
  {
   "cell_type": "code",
   "execution_count": 38,
   "metadata": {
    "colab": {
     "base_uri": "https://localhost:8080/",
     "height": 457
    },
    "id": "eFxlSVnRU7-o",
    "outputId": "454441b5-1040-438e-8480-89852c1d4c8b"
   },
   "outputs": [
    {
     "data": {
      "text/plain": [
       "<matplotlib.axes._subplots.AxesSubplot at 0x7fecc09b0b90>"
      ]
     },
     "execution_count": 38,
     "metadata": {
      "tags": []
     },
     "output_type": "execute_result"
    },
    {
     "data": {
      "image/png": "[encoded data removed]",
      "text/plain": [
       "<Figure size 432x288 with 1 Axes>"
      ]
     },
     "metadata": {
      "needs_background": "light",
      "tags": []
     },
     "output_type": "display_data"
    }
   ],
   "source": [
    "top_10_expensive_university=df.groupby('Name')['Total Annual Cost'].mean().sort_values(ascending=False)[:10]\n",
    "top_10_expensive_university.plot(kind='bar')"
   ]
  },
  {
   "cell_type": "code",
   "execution_count": 14,
   "metadata": {
    "colab": {
     "base_uri": "https://localhost:8080/"
    },
    "id": "xyhe0Hq4_xJ5",
    "outputId": "15f88028-5ca5-4902-f08d-50b45c5d48dc"
   },
   "outputs": [
    {
     "data": {
      "text/plain": [
       "Name\n",
       "Harvard University                       5.0\n",
       "Stanford University                      5.0\n",
       "Princeton University                     6.0\n",
       "The Juilliard School                     6.0\n",
       "Massachusetts Institute of Technology    7.0\n",
       "Columbia University                      7.0\n",
       "Yale University                          7.0\n",
       "Pomona College                           8.0\n",
       "United States Naval Academy              8.0\n",
       "Brown University                         8.0\n",
       "Name: Acceptance Rate, dtype: float64"
      ]
     },
     "execution_count": 14,
     "metadata": {
      "tags": []
     },
     "output_type": "execute_result"
    }
   ],
   "source": [
    "top_10=df.groupby('Name')['Acceptance Rate'].mean().sort_values(ascending=True)[:10]\n",
    "top_10"
   ]
  },
  {
   "cell_type": "code",
   "execution_count": 15,
   "metadata": {
    "colab": {
     "base_uri": "https://localhost:8080/",
     "height": 531
    },
    "id": "DEbha9mz_8Ns",
    "outputId": "de839d90-6be7-483b-a072-b487261fdc7c"
   },
   "outputs": [
    {
     "data": {
      "text/plain": [
       "<matplotlib.axes._subplots.AxesSubplot at 0x7fecc165ef90>"
      ]
     },
     "execution_count": 15,
     "metadata": {
      "tags": []
     },
     "output_type": "execute_result"
    },
    {
     "data": {
      "image/png": "[encoded data removed]",
      "text/plain": [
       "<Figure size 792x360 with 1 Axes>"
      ]
     },
     "metadata": {
      "needs_background": "light",
      "tags": []
     },
     "output_type": "display_data"
    }
   ],
   "source": [
    "plt.figure(figsize=(11,5))\n",
    "top_10.plot(kind='bar')"
   ]
  },
  {
   "cell_type": "code",
   "execution_count": 16,
   "metadata": {
    "colab": {
     "base_uri": "https://localhost:8080/",
     "height": 491
    },
    "id": "_9izLlJFA7or",
    "outputId": "0b5a7381-7e2a-455b-fff6-aab13960be4c"
   },
   "outputs": [
    {
     "data": {
      "text/plain": [
       "<matplotlib.axes._subplots.AxesSubplot at 0x7fecc157c8d0>"
      ]
     },
     "execution_count": 16,
     "metadata": {
      "tags": []
     },
     "output_type": "execute_result"
    },
    {
     "data": {
      "image/png": "[encoded data removed]",
      "text/plain": [
       "<Figure size 432x288 with 1 Axes>"
      ]
     },
     "metadata": {
      "needs_background": "light",
      "tags": []
     },
     "output_type": "display_data"
    }
   ],
   "source": [
    "top_10=df.groupby('Name')['Alumni Salary'].mean().sort_values(ascending=False)[:10]\n",
    "top_10.plot(kind='bar')"
   ]
  },
  {
   "cell_type": "code",
   "execution_count": 21,
   "metadata": {
    "colab": {
     "base_uri": "https://localhost:8080/",
     "height": 516
    },
    "id": "Cl_kyF9FSUVO",
    "outputId": "bfb6eb98-0084-48a8-9fe5-fcbd78994b45"
   },
   "outputs": [
    {
     "data": {
      "text/plain": [
       "Text(0.5, 1.0, 'ACT scores lowest')"
      ]
     },
     "execution_count": 21,
     "metadata": {
      "tags": []
     },
     "output_type": "execute_result"
    },
    {
     "data": {
      "image/png": "[encoded data removed]",
      "text/plain": [
       "<Figure size 432x288 with 1 Axes>"
      ]
     },
     "metadata": {
      "needs_background": "light",
      "tags": []
     },
     "output_type": "display_data"
    }
   ],
   "source": [
    "top_10=df.groupby('Name')['ACT Lower'].mean().sort_values(ascending=True)[:10]\n",
    "top_10.plot(kind='bar')\n",
    "plt.title('ACT scores lowest')"
   ]
  },
  {
   "cell_type": "code",
   "execution_count": 32,
   "metadata": {
    "colab": {
     "base_uri": "https://localhost:8080/"
    },
    "id": "k5dToFEiTqit",
    "outputId": "dae53c42-2f0b-4060-875c-e7da7ef53f94"
   },
   "outputs": [
    {
     "data": {
      "text/plain": [
       "Name\n",
       "California State University, Los Angeles       20.0\n",
       "California State University, San Bernardino    21.0\n",
       "Mount Saint Mary's University (CA)             21.0\n",
       "Fisk University                                22.0\n",
       "California State University, Northridge        22.0\n",
       "St. Joseph's College (NY)                      22.0\n",
       "University of Texas, Rio Grande Valley         22.0\n",
       "Rhode Island College                           22.0\n",
       "California State University, Fresno            22.0\n",
       "University of Texas, El Paso                   22.0\n",
       "Name: ACT Upper, dtype: float64"
      ]
     },
     "execution_count": 32,
     "metadata": {
      "tags": []
     },
     "output_type": "execute_result"
    }
   ],
   "source": [
    "top_10"
   ]
  },
  {
   "cell_type": "code",
   "execution_count": 31,
   "metadata": {
    "colab": {
     "base_uri": "https://localhost:8080/",
     "height": 516
    },
    "id": "0DDmOGcnS1lg",
    "outputId": "a20c72e3-1c72-472c-e0f7-aba8ba53679f"
   },
   "outputs": [
    {
     "data": {
      "text/plain": [
       "Text(0.5, 1.0, 'ACT Upper Scores')"
      ]
     },
     "execution_count": 31,
     "metadata": {
      "tags": []
     },
     "output_type": "execute_result"
    },
    {
     "data": {
      "image/png": "[encoded data removed]",
      "text/plain": [
       "<Figure size 432x288 with 1 Axes>"
      ]
     },
     "metadata": {
      "needs_background": "light",
      "tags": []
     },
     "output_type": "display_data"
    }
   ],
   "source": [
    "top_10=df.groupby('Name')['ACT Upper'].mean().sort_values(ascending=True)[:10]\n",
    "top_10.plot(kind='bar')\n",
    "plt.title('ACT Upper Scores')"
   ]
  },
  {
   "cell_type": "code",
   "execution_count": 29,
   "metadata": {
    "colab": {
     "base_uri": "https://localhost:8080/",
     "height": 403
    },
    "id": "zspvTnFxTNGw",
    "outputId": "f7d2bcbe-60a4-49ec-9055-25f942a9ee16"
   },
   "outputs": [
    {
     "data": {
      "text/plain": [
       "Text(0.5, 1.0, 'Colleges with high Grant Aid')"
      ]
     },
     "execution_count": 29,
     "metadata": {
      "tags": []
     },
     "output_type": "execute_result"
    },
    {
     "data": {
      "image/png": "[encoded data removed]",
      "text/plain": [
       "<Figure size 432x288 with 1 Axes>"
      ]
     },
     "metadata": {
      "needs_background": "light",
      "tags": []
     },
     "output_type": "display_data"
    }
   ],
   "source": [
    "top_10=df.groupby('Name')['Average Grant Aid'].mean().sort_values(ascending=False)[:10]\n",
    "top_10.plot(kind='bar')\n",
    "plt.title('Colleges with high Grant Aid')"
   ]
  },
  {
   "cell_type": "code",
   "execution_count": 30,
   "metadata": {
    "colab": {
     "base_uri": "https://localhost:8080/"
    },
    "id": "jlvvHZoWTj7R",
    "outputId": "ec0bea47-28fb-4671-bbd6-40c11861c5ae"
   },
   "outputs": [
    {
     "data": {
      "text/plain": [
       "Name\n",
       "Yale University         50897.0\n",
       "Stanford University     50134.0\n",
       "Harvard University      49870.0\n",
       "Amherst College         49467.0\n",
       "Columbia University     49185.0\n",
       "Pomona College          48930.0\n",
       "Princeton University    48088.0\n",
       "Williams College        48050.0\n",
       "Duke University         47836.0\n",
       "Dartmouth College       47171.0\n",
       "Name: Average Grant Aid, dtype: float64"
      ]
     },
     "execution_count": 30,
     "metadata": {
      "tags": []
     },
     "output_type": "execute_result"
    }
   ],
   "source": [
    "top_10"
   ]
  },
  {
   "cell_type": "code",
   "execution_count": 45,
   "metadata": {
    "colab": {
     "base_uri": "https://localhost:8080/",
     "height": 1000
    },
    "id": "SOOfGAVzVt6C",
    "outputId": "3eea2585-c610-4374-fe2c-7cc9bfa5c754"
   },
   "outputs": [
    {
     "name": "stdout",
     "output_type": "stream",
     "text": [
      "['Abilene Christian University' 'Adelphi University' 'Agnes Scott College'\n",
      " 'Albion College' 'Alfred University' 'Allegheny College' 'Alma College'\n",
      " 'American University' 'Amherst College' 'Anderson University (IN)'\n",
      " 'Andrews University' 'Appalachian State University'\n",
      " 'Arizona State University, Tempe' 'Asbury University'\n",
      " 'Ashland University' 'Assumption College' 'Auburn University'\n",
      " 'Augustana College' 'Augustana University' 'Aurora University'\n",
      " 'Austin College' 'Azusa Pacific University' 'Babson College'\n",
      " 'Baldwin Wallace University' 'Ball State University' 'Bard College'\n",
      " 'Barnard College' 'Bates College' 'Baylor University'\n",
      " 'Bellarmine University' 'Belmont University' 'Beloit College'\n",
      " 'Benedictine University' 'Bennington College' 'Bentley University'\n",
      " 'Berea College' 'Berklee College of Music' 'Berry College'\n",
      " 'Bethel University' 'Binghamton University, SUNY' 'Biola University'\n",
      " 'Birmingham-Southern College' 'Bloomsburg University of Pennsylvania'\n",
      " 'Boise State University' 'Boston College' 'Boston University'\n",
      " 'Bowdoin College' 'Bowling Green State University' 'Bradley University'\n",
      " 'Brandeis University' 'Brigham Young University'\n",
      " 'Brigham Young University-Idaho' 'Brown University' 'Bryant University'\n",
      " 'Bryn Mawr College' 'Bucknell University' 'Butler University'\n",
      " 'CUNY, Baruch College' 'CUNY, Brooklyn College'\n",
      " 'CUNY, College of Staten Island' 'CUNY, Hunter College'\n",
      " 'CUNY, John Jay College of Criminal Justice' 'CUNY, Lehman College'\n",
      " 'CUNY, Queens College' 'CUNY, The City College of New York'\n",
      " 'California Institute of Technology' 'California Institute of the Arts'\n",
      " 'California Lutheran University'\n",
      " 'California Polytechnic State University, San Luis Obispo'\n",
      " 'California State Polytechnic University, Pomona'\n",
      " 'California State University Maritime Academy'\n",
      " 'California State University, Chico'\n",
      " 'California State University, East Bay'\n",
      " 'California State University, Fresno'\n",
      " 'California State University, Fullerton'\n",
      " 'California State University, Long Beach'\n",
      " 'California State University, Los Angeles'\n",
      " 'California State University, Northridge'\n",
      " 'California State University, Sacramento'\n",
      " 'California State University, San Bernardino'\n",
      " 'California State University, Stanislaus' 'Calvin University'\n",
      " 'Canisius College' 'Capital University' 'Carleton College'\n",
      " 'Carnegie Mellon University' 'Carroll College' 'Carroll University'\n",
      " 'Carson-Newman University' 'Carthage College'\n",
      " 'Case Western Reserve University' 'Catawba College'\n",
      " 'Cedarville University' 'Centenary College of Louisiana'\n",
      " 'Central College' 'Central Michigan University'\n",
      " 'Central Washington University' 'Centre College' 'Chapman University'\n",
      " 'Christian Brothers University' 'Christopher Newport University'\n",
      " 'Claremont McKenna College' 'Clark University (MA)' 'Clarke University'\n",
      " 'Clarkson University' 'Clemson University' 'Cleveland State University'\n",
      " 'Coe College' 'Colby College' 'Colgate University'\n",
      " 'College of Charleston' 'College of Idaho' 'College of New Jersey'\n",
      " 'College of Saint Benedict' 'College of St. Scholastica'\n",
      " 'College of William &amp; Mary' 'College of Wooster'\n",
      " 'College of the Atlantic' 'College of the Holy Cross'\n",
      " 'College of the Ozarks' 'Colorado College' 'Colorado School of Mines'\n",
      " 'Colorado State University, Fort Collins' 'Columbia University'\n",
      " 'Concordia College—Moorhead' 'Connecticut College' 'Converse College'\n",
      " 'Cooper Union' 'Cornell College (IA)' 'Cornell University'\n",
      " 'Covenant College' 'Creighton University' 'Dartmouth College'\n",
      " 'Davidson College' 'DePaul University' 'DePauw University'\n",
      " 'Denison University' 'Dickinson College' 'Doane University'\n",
      " 'Dordt University' 'Drake University' 'Drew University'\n",
      " 'Drexel University' 'Duke University' 'Duquesne University'\n",
      " 'Earlham College' 'East Carolina University'\n",
      " 'Eastern Kentucky University' 'Eckerd College' 'Elizabethtown College'\n",
      " 'Elmhurst College' 'Elmira College' 'Elon University'\n",
      " 'Embry-Riddle Aeronautical University, Daytona Beach'\n",
      " 'Embry-Riddle Aeronautical University, Prescott' 'Emerson College'\n",
      " 'Emory &amp; Henry College' 'Emory University' 'Fairfield University'\n",
      " 'Fairleigh Dickinson University' 'Fisk University'\n",
      " 'Florida Atlantic University' 'Florida Gulf Coast University'\n",
      " 'Florida Institute of Technology' 'Florida International University'\n",
      " 'Florida Southern College' 'Florida State University'\n",
      " 'Fordham University' 'Fort Lewis College'\n",
      " 'Franciscan University of Steubenville' 'Franklin and Marshall College'\n",
      " 'Furman University' 'George Fox University' 'George Mason University'\n",
      " 'George Washington University' 'Georgetown College (KY)'\n",
      " 'Georgetown University' 'Georgia College &amp; State University'\n",
      " 'Georgia Institute of Technology' 'Georgia Southern University'\n",
      " 'Georgia State University' 'Gettysburg College' 'Gonzaga University'\n",
      " 'Gordon College' 'Goshen College' 'Goucher College'\n",
      " 'Grand Valley State University' 'Grinnell College' 'Grove City College'\n",
      " 'Guilford College' 'Gustavus Adolphus College' 'Hamilton College'\n",
      " 'Hamline University' 'Hampden-Sydney College' 'Hampshire College'\n",
      " 'Hanover College' 'Hartwick College' 'Harvard University'\n",
      " 'Harvey Mudd College' 'Hastings College' 'Haverford College'\n",
      " 'Hendrix College' 'High Point University' 'Hillsdale College'\n",
      " 'Hiram College' 'Hobart and William Smith Colleges' 'Hofstra University'\n",
      " 'Hollins University' 'Hood College' 'Hope College' 'Houghton College'\n",
      " 'Howard University' 'Humboldt State University' 'Huntington University'\n",
      " 'Illinois College' 'Illinois Institute of Technology'\n",
      " 'Illinois State University' 'Illinois Wesleyan University'\n",
      " 'Immaculata University' 'Indiana State University'\n",
      " 'Indiana University of Pennsylvania' 'Indiana University, Bloomington'\n",
      " 'Indiana University-Purdue University, Indianapolis' 'Iona College'\n",
      " 'Iowa State University' 'Ithaca College' 'James Madison University'\n",
      " 'John Brown University' 'John Carroll University'\n",
      " 'Johns Hopkins University' 'Juniata College' 'Kalamazoo College'\n",
      " 'Kansas State University' 'Kent State University Kent Campus'\n",
      " 'Kenyon College' 'Kettering University' \"King's College (PA)\"\n",
      " 'Knox College' 'La Salle University' 'Lafayette College'\n",
      " 'Lake Forest College' 'Lawrence Technological University'\n",
      " 'Lawrence University' 'Le Moyne College' 'Lebanon Valley College'\n",
      " 'Lehigh University' 'Lewis &amp; Clark College' 'Liberty University'\n",
      " 'Linfield College' 'Lipscomb University' 'Louisiana State University'\n",
      " 'Louisiana Tech University' 'Loyola Marymount University'\n",
      " 'Loyola University Chicago' 'Loyola University Maryland'\n",
      " 'Loyola University New Orleans' 'Luther College' 'Lycoming College'\n",
      " 'Lynn University' 'Lyon College' 'Macalester College' 'Manhattan College'\n",
      " 'Manhattan School of Music' 'Manhattanville College' 'Marietta College'\n",
      " 'Marist College' 'Marlboro College' 'Marquette University'\n",
      " 'Maryland Institute College of Art' 'Maryville College'\n",
      " 'Maryville University of Saint Louis'\n",
      " 'Massachusetts Institute of Technology' 'Massachusetts Maritime Academy'\n",
      " \"Master's University\" 'McDaniel College' 'Mercer University'\n",
      " 'Meredith College' 'Merrimack College' 'Messiah College'\n",
      " 'Miami University (OH)' 'Michigan State University'\n",
      " 'Michigan Technological University' 'Middle Tennessee State University'\n",
      " 'Middlebury College' 'Millersville University' 'Millikin University'\n",
      " 'Mills College' 'Millsaps College' 'Milwaukee School of Engineering'\n",
      " 'Minnesota State University, Mankato' 'Mississippi College'\n",
      " 'Mississippi State University' 'Missouri State University'\n",
      " 'Missouri University of Science and Technology' 'Monmouth College'\n",
      " 'Montana State University' 'Montana Tech of the University of Montana'\n",
      " 'Montclair State University' 'Moravian College' 'Morehouse College'\n",
      " 'Mount Holyoke College' \"Mount Saint Mary's University (CA)\"\n",
      " 'Muhlenberg College' 'Murray State University'\n",
      " 'Nebraska Wesleyan University' 'New College of Florida'\n",
      " 'New Jersey Institute of Technology'\n",
      " 'New Mexico Institute of Mining and Technology'\n",
      " 'New Mexico State University' 'New School' 'New York University'\n",
      " 'North Carolina State University, Raleigh' 'North Central College'\n",
      " 'North Dakota State University' 'North Greenville University'\n",
      " 'Northeastern University' 'Northern Arizona University'\n",
      " 'Northern Illinois University' 'Northern Kentucky University'\n",
      " 'Northwestern College (IA)' 'Northwestern University'\n",
      " 'Nova Southeastern University' 'Oakland University' 'Oberlin College'\n",
      " 'Occidental College' 'Oglethorpe University' 'Ohio Northern University'\n",
      " 'Ohio State University' 'Ohio University' 'Ohio Wesleyan University'\n",
      " 'Oklahoma Baptist University' 'Oklahoma City University'\n",
      " 'Oklahoma State University' 'Old Dominion University'\n",
      " 'Oral Roberts University' 'Oregon Institute of Technology'\n",
      " 'Oregon State University' 'Otterbein University'\n",
      " 'Ouachita Baptist University' 'Pace University'\n",
      " 'Pacific Lutheran University' 'Pacific University (OR)'\n",
      " 'Pennsylvania State University' 'Pepperdine University' 'Pitzer College'\n",
      " 'Point Loma Nazarene University' 'Pomona College'\n",
      " 'Portland State University' 'Pratt Institute' 'Presbyterian College'\n",
      " 'Princeton University' 'Providence College' 'Purdue University'\n",
      " 'Queens University of Charlotte' 'Quinnipiac University'\n",
      " 'Ramapo College of New Jersey' 'Randolph College'\n",
      " 'Randolph-Macon College' 'Reed College' 'Regis University'\n",
      " 'Rensselaer Polytechnic Institute' 'Rhode Island College'\n",
      " 'Rhode Island School of Design' 'Rhodes College' 'Rice University'\n",
      " 'Rider University' 'Ripon College' 'Roanoke College'\n",
      " 'Rochester Institute of Technology' 'Rockhurst University'\n",
      " 'Roger Williams University' 'Rollins College'\n",
      " 'Rose-Hulman Institute of Technology' 'Rowan University'\n",
      " 'Russell Sage College' 'Rutgers University' 'SUNY Maritime College'\n",
      " 'SUNY, College at New Paltz' 'SUNY, College at Oneonta'\n",
      " 'SUNY, College of Environmental Science and Forestry'\n",
      " 'SUNY, Farmingdale State College' 'SUNY, Geneseo'\n",
      " 'SUNY, Stony Brook (Stony Brook University)' 'Sacred Heart University'\n",
      " 'Saint Anselm College' 'Saint Cloud State University'\n",
      " 'Saint John Fisher College' \"Saint John's University (MN)\"\n",
      " \"Saint Joseph's University (PA)\" 'Saint Louis University'\n",
      " \"Saint Mary's College (IN)\" \"Saint Mary's College of California\"\n",
      " \"Saint Mary's University of Minnesota\" \"Saint Michael's College\"\n",
      " 'Saint Vincent College' 'Salem College' 'Salisbury University'\n",
      " 'Sam Houston State University' 'Samford University'\n",
      " 'San Diego State University' 'San Francisco State University'\n",
      " 'San Jose State University' 'Santa Clara University'\n",
      " 'Sarah Lawrence College' 'Scripps College' 'Seattle Pacific University'\n",
      " 'Seattle University' 'Seton Hall University'\n",
      " 'Sewanee—University of the South' 'Siena College' 'Simmons College'\n",
      " 'Simpson College (IA)' 'Skidmore College' 'Smith College'\n",
      " 'Sonoma State University' 'South Dakota School of Mines and Technology'\n",
      " 'South Dakota State University' 'Southeastern Louisiana University'\n",
      " 'Southern Illinois University Carbondale'\n",
      " 'Southern Illinois University Edwardsville'\n",
      " 'Southern Methodist University' 'Southwestern University'\n",
      " 'Spelman College' 'Spring Hill College' 'St. Catherine University'\n",
      " \"St. Edward's University\" 'St. Francis College'\n",
      " \"St. John's College, Annapolis\" \"St. John's College, Santa Fe\"\n",
      " \"St. John's University (NY)\" \"St. Joseph's College (NY)\"\n",
      " 'St. Lawrence University' \"St. Mary's College of Maryland\"\n",
      " \"St. Mary's University (TX)\" 'St. Norbert College' 'St. Olaf College'\n",
      " 'Stanford University' 'Stetson University'\n",
      " 'Stevens Institute of Technology' 'Stockton University'\n",
      " 'Stonehill College' 'Susquehanna University' 'Swarthmore College'\n",
      " 'Sweet Briar College' 'Syracuse University' 'Taylor University'\n",
      " 'Temple University' 'Tennessee Technological University'\n",
      " 'Texas A&amp;M University, College Station' 'Texas Christian University'\n",
      " 'Texas State University' 'Texas Tech University'\n",
      " \"Texas Woman's University\" 'The Catholic University of America'\n",
      " 'The Citadel' 'The Juilliard School' 'Touro College' 'Towson University'\n",
      " 'Transylvania University' 'Trinity College (CT)'\n",
      " 'Trinity University (TX)' 'Truman State University' 'Tufts University'\n",
      " 'Tulane University' 'Union College (NY)' 'Union University (TN)'\n",
      " 'United States Air Force Academy' 'United States Coast Guard Academy'\n",
      " 'United States Merchant Marine Academy' 'United States Military Academy'\n",
      " 'United States Naval Academy' 'University at Albany, SUNY'\n",
      " 'University at Buffalo (SUNY)' 'University of Alabama'\n",
      " 'University of Alabama in Huntsville' 'University of Alabama, Birmingham'\n",
      " 'University of Alaska, Anchorage' 'University of Alaska, Fairbanks'\n",
      " 'University of Arizona' 'University of Arkansas'\n",
      " 'University of California, Berkeley' 'University of California, Davis'\n",
      " 'University of California, Irvine'\n",
      " 'University of California, Los Angeles'\n",
      " 'University of California, Riverside'\n",
      " 'University of California, San Diego'\n",
      " 'University of California, Santa Barbara'\n",
      " 'University of California, Santa Cruz' 'University of Central Florida'\n",
      " 'University of Chicago' 'University of Cincinnati'\n",
      " 'University of Colorado Colorado Springs'\n",
      " 'University of Colorado, Boulder' 'University of Colorado, Denver'\n",
      " 'University of Connecticut' 'University of Dallas' 'University of Dayton'\n",
      " 'University of Delaware' 'University of Denver'\n",
      " 'University of Evansville' 'University of Florida'\n",
      " 'University of Georgia' 'University of Hartford'\n",
      " 'University of Hawaii, Manoa' 'University of Houston'\n",
      " 'University of Idaho' 'University of Illinois, Chicago'\n",
      " 'University of Illinois, Urbana-Champaign' 'University of Iowa'\n",
      " 'University of Kansas' 'University of Kentucky' 'University of La Verne'\n",
      " 'University of Louisiana, Lafayette' 'University of Louisville'\n",
      " 'University of Maine' 'University of Mary Washington'\n",
      " 'University of Maryland, Baltimore County'\n",
      " 'University of Maryland, College Park'\n",
      " 'University of Massachusetts Boston' 'University of Massachusetts Lowell'\n",
      " 'University of Massachusetts, Amherst' 'University of Memphis'\n",
      " 'University of Miami (FL)' 'University of Michigan, Ann Arbor'\n",
      " 'University of Minnesota, Duluth' 'University of Minnesota, Morris'\n",
      " 'University of Minnesota, Twin Cities' 'University of Mississippi'\n",
      " 'University of Missouri, Columbia' 'University of Missouri, Saint Louis'\n",
      " 'University of Montana' 'University of Mount Union'\n",
      " 'University of Nebraska, Lincoln' 'University of Nebraska, Omaha'\n",
      " 'University of Nevada, Las Vegas' 'University of Nevada, Reno'\n",
      " 'University of New England' 'University of New Hampshire'\n",
      " 'University of New Mexico' 'University of New Orleans'\n",
      " 'University of North Carolina, Asheville'\n",
      " 'University of North Carolina, Chapel Hill'\n",
      " 'University of North Carolina, Charlotte'\n",
      " 'University of North Carolina, Greensboro'\n",
      " 'University of North Carolina, Wilmington' 'University of North Dakota'\n",
      " 'University of North Florida' 'University of North Georgia'\n",
      " 'University of North Texas' 'University of Northern Colorado'\n",
      " 'University of Northern Iowa' 'University of Northwestern, St. Paul'\n",
      " 'University of Notre Dame' 'University of Oklahoma, Norman'\n",
      " 'University of Oregon' 'University of Pennsylvania'\n",
      " 'University of Pittsburgh' 'University of Portland'\n",
      " 'University of Puget Sound' 'University of Redlands'\n",
      " 'University of Rhode Island' 'University of Richmond'\n",
      " 'University of Rochester' 'University of Saint Thomas (MN)'\n",
      " 'University of San Diego' 'University of San Francisco'\n",
      " 'University of Scranton' 'University of South Alabama'\n",
      " 'University of South Carolina' 'University of South Dakota'\n",
      " 'University of South Florida' 'University of Southern California'\n",
      " 'University of Southern Mississippi' 'University of St. Thomas (TX)'\n",
      " 'University of Tampa' 'University of Tennessee, Knoxville'\n",
      " 'University of Texas at San Antonio' 'University of Texas, Arlington'\n",
      " 'University of Texas, Austin' 'University of Texas, Dallas'\n",
      " 'University of Texas, El Paso' 'University of Texas, Rio Grande Valley'\n",
      " 'University of Toledo' 'University of Tulsa' 'University of Utah'\n",
      " 'University of Vermont' 'University of Virginia'\n",
      " 'University of Washington Bothell' 'University of Washington, Seattle'\n",
      " 'University of West Florida' 'University of Wisconsin, Eau Claire'\n",
      " 'University of Wisconsin, La Crosse' 'University of Wisconsin, Madison'\n",
      " 'University of Wisconsin, Milwaukee' 'University of Wyoming'\n",
      " 'University of the Pacific (CA)' 'Ursinus College'\n",
      " 'Utah State University' 'Valparaiso University' 'Vanderbilt University'\n",
      " 'Vanguard University' 'Vassar College' 'Villanova University'\n",
      " 'Virginia Commonwealth University' 'Virginia Military Institute'\n",
      " 'Virginia Tech' 'Wabash College' 'Wagner College'\n",
      " 'Wake Forest University' 'Warren Wilson College'\n",
      " 'Washington &amp; Jefferson College' 'Washington College'\n",
      " 'Washington State University' 'Washington University in St. Louis'\n",
      " 'Washington and Lee University' 'Wayne State University'\n",
      " 'Weber State University' 'Webster University' 'Wellesley College'\n",
      " 'Wells College' 'Wentworth Institute of Technology' 'Wesleyan University'\n",
      " 'West Chester University of Pennsylvania' 'West Virginia University'\n",
      " 'Western Colorado University' 'Western Illinois University'\n",
      " 'Western Kentucky University' 'Western Michigan University'\n",
      " 'Western Washington University' 'Westminster College (MO)'\n",
      " 'Westminster College (PA)' 'Westminster College (UT)' 'Westmont College'\n",
      " 'Wheaton College (IL)' 'Wheaton College (MA)' 'Whitman College'\n",
      " 'Whittier College' 'Whitworth University' 'Wichita State University'\n",
      " 'Willamette University' 'William Jewell College' 'Williams College'\n",
      " 'Wisconsin Lutheran College' 'Wittenberg University' 'Wofford College'\n",
      " 'Worcester Polytechnic Institute' 'Wright State University'\n",
      " 'Xavier University' 'Yale University' 'Yeshiva University']\n"
     ]
    },
    {
     "data": {
      "text/html": [
       "<div>\n",
       "<style scoped>\n",
       "    .dataframe tbody tr th:only-of-type {\n",
       "        vertical-align: middle;\n",
       "    }\n",
       "\n",
       "    .dataframe tbody tr th {\n",
       "        vertical-align: top;\n",
       "    }\n",
       "\n",
       "    .dataframe thead th {\n",
       "        text-align: right;\n",
       "    }\n",
       "</style>\n",
       "<table border=\"1\" class=\"dataframe\">\n",
       "  <thead>\n",
       "    <tr style=\"text-align: right;\">\n",
       "      <th></th>\n",
       "      <th>Rank</th>\n",
       "      <th>Name</th>\n",
       "      <th>City</th>\n",
       "      <th>State</th>\n",
       "      <th>Public/Private</th>\n",
       "      <th>Undergraduate Population</th>\n",
       "      <th>Student Population</th>\n",
       "      <th>Net Price</th>\n",
       "      <th>Average Grant Aid</th>\n",
       "      <th>Total Annual Cost</th>\n",
       "      <th>Alumni Salary</th>\n",
       "      <th>Acceptance Rate</th>\n",
       "      <th>SAT Lower</th>\n",
       "      <th>SAT Upper</th>\n",
       "      <th>ACT Lower</th>\n",
       "      <th>ACT Upper</th>\n",
       "      <th>Website</th>\n",
       "    </tr>\n",
       "  </thead>\n",
       "  <tbody>\n",
       "    <tr>\n",
       "      <th>0</th>\n",
       "      <td>1.0</td>\n",
       "      <td>197</td>\n",
       "      <td>Cambridge</td>\n",
       "      <td>MA</td>\n",
       "      <td>Private</td>\n",
       "      <td>13844.0</td>\n",
       "      <td>31120.0</td>\n",
       "      <td>14327.0</td>\n",
       "      <td>49870.0</td>\n",
       "      <td>69600.0</td>\n",
       "      <td>146800.0</td>\n",
       "      <td>5.0</td>\n",
       "      <td>1460.0</td>\n",
       "      <td>1590.0</td>\n",
       "      <td>32.0</td>\n",
       "      <td>35.0</td>\n",
       "      <td>www.harvard.edu</td>\n",
       "    </tr>\n",
       "    <tr>\n",
       "      <th>1</th>\n",
       "      <td>2.0</td>\n",
       "      <td>436</td>\n",
       "      <td>Stanford</td>\n",
       "      <td>CA</td>\n",
       "      <td>Private</td>\n",
       "      <td>8402.0</td>\n",
       "      <td>17534.0</td>\n",
       "      <td>13261.0</td>\n",
       "      <td>50134.0</td>\n",
       "      <td>69109.0</td>\n",
       "      <td>145200.0</td>\n",
       "      <td>5.0</td>\n",
       "      <td>1390.0</td>\n",
       "      <td>1540.0</td>\n",
       "      <td>32.0</td>\n",
       "      <td>35.0</td>\n",
       "      <td>www.stanford.edu</td>\n",
       "    </tr>\n",
       "    <tr>\n",
       "      <th>2</th>\n",
       "      <td>3.0</td>\n",
       "      <td>648</td>\n",
       "      <td>New Haven</td>\n",
       "      <td>CT</td>\n",
       "      <td>Private</td>\n",
       "      <td>6483.0</td>\n",
       "      <td>12974.0</td>\n",
       "      <td>18627.0</td>\n",
       "      <td>50897.0</td>\n",
       "      <td>71290.0</td>\n",
       "      <td>138300.0</td>\n",
       "      <td>7.0</td>\n",
       "      <td>1460.0</td>\n",
       "      <td>1580.0</td>\n",
       "      <td>32.0</td>\n",
       "      <td>35.0</td>\n",
       "      <td>www.yale.edu</td>\n",
       "    </tr>\n",
       "    <tr>\n",
       "      <th>3</th>\n",
       "      <td>4.0</td>\n",
       "      <td>271</td>\n",
       "      <td>Cambridge</td>\n",
       "      <td>MA</td>\n",
       "      <td>Private</td>\n",
       "      <td>4680.0</td>\n",
       "      <td>11466.0</td>\n",
       "      <td>20771.0</td>\n",
       "      <td>43248.0</td>\n",
       "      <td>67430.0</td>\n",
       "      <td>155200.0</td>\n",
       "      <td>7.0</td>\n",
       "      <td>1490.0</td>\n",
       "      <td>1570.0</td>\n",
       "      <td>33.0</td>\n",
       "      <td>35.0</td>\n",
       "      <td>web.mit.edu</td>\n",
       "    </tr>\n",
       "    <tr>\n",
       "      <th>4</th>\n",
       "      <td>5.0</td>\n",
       "      <td>350</td>\n",
       "      <td>Princeton</td>\n",
       "      <td>NJ</td>\n",
       "      <td>Private</td>\n",
       "      <td>5659.0</td>\n",
       "      <td>8273.0</td>\n",
       "      <td>9327.0</td>\n",
       "      <td>48088.0</td>\n",
       "      <td>66150.0</td>\n",
       "      <td>139400.0</td>\n",
       "      <td>6.0</td>\n",
       "      <td>1430.0</td>\n",
       "      <td>1570.0</td>\n",
       "      <td>31.0</td>\n",
       "      <td>35.0</td>\n",
       "      <td>www.princeton.edu</td>\n",
       "    </tr>\n",
       "    <tr>\n",
       "      <th>...</th>\n",
       "      <td>...</td>\n",
       "      <td>...</td>\n",
       "      <td>...</td>\n",
       "      <td>...</td>\n",
       "      <td>...</td>\n",
       "      <td>...</td>\n",
       "      <td>...</td>\n",
       "      <td>...</td>\n",
       "      <td>...</td>\n",
       "      <td>...</td>\n",
       "      <td>...</td>\n",
       "      <td>...</td>\n",
       "      <td>...</td>\n",
       "      <td>...</td>\n",
       "      <td>...</td>\n",
       "      <td>...</td>\n",
       "      <td>...</td>\n",
       "    </tr>\n",
       "    <tr>\n",
       "      <th>645</th>\n",
       "      <td>646.0</td>\n",
       "      <td>308</td>\n",
       "      <td>Las Cruces</td>\n",
       "      <td>NM</td>\n",
       "      <td>Public</td>\n",
       "      <td>13379.0</td>\n",
       "      <td>14432.0</td>\n",
       "      <td>8625.0</td>\n",
       "      <td>9582.0</td>\n",
       "      <td>34720.0</td>\n",
       "      <td>96700.0</td>\n",
       "      <td>64.0</td>\n",
       "      <td>910.0</td>\n",
       "      <td>1160.0</td>\n",
       "      <td>18.0</td>\n",
       "      <td>23.0</td>\n",
       "      <td>www.nmsu.edu</td>\n",
       "    </tr>\n",
       "    <tr>\n",
       "      <th>646</th>\n",
       "      <td>647.0</td>\n",
       "      <td>219</td>\n",
       "      <td>Terre Haute</td>\n",
       "      <td>IN</td>\n",
       "      <td>Public</td>\n",
       "      <td>13626.0</td>\n",
       "      <td>13763.0</td>\n",
       "      <td>13012.0</td>\n",
       "      <td>9297.0</td>\n",
       "      <td>32938.0</td>\n",
       "      <td>85600.0</td>\n",
       "      <td>85.0</td>\n",
       "      <td>900.0</td>\n",
       "      <td>1110.0</td>\n",
       "      <td>17.0</td>\n",
       "      <td>23.0</td>\n",
       "      <td>www.indstate.edu</td>\n",
       "    </tr>\n",
       "    <tr>\n",
       "      <th>647</th>\n",
       "      <td>648.0</td>\n",
       "      <td>156</td>\n",
       "      <td>Emory</td>\n",
       "      <td>VA</td>\n",
       "      <td>Private</td>\n",
       "      <td>1094.0</td>\n",
       "      <td>1226.0</td>\n",
       "      <td>19340.0</td>\n",
       "      <td>27155.0</td>\n",
       "      <td>48100.0</td>\n",
       "      <td>70700.0</td>\n",
       "      <td>72.0</td>\n",
       "      <td>988.0</td>\n",
       "      <td>1170.0</td>\n",
       "      <td>19.0</td>\n",
       "      <td>25.0</td>\n",
       "      <td>www.ehc.edu</td>\n",
       "    </tr>\n",
       "    <tr>\n",
       "      <th>648</th>\n",
       "      <td>649.0</td>\n",
       "      <td>619</td>\n",
       "      <td>Aurora</td>\n",
       "      <td>NY</td>\n",
       "      <td>Private</td>\n",
       "      <td>488.0</td>\n",
       "      <td>516.0</td>\n",
       "      <td>22828.0</td>\n",
       "      <td>30207.0</td>\n",
       "      <td>55180.0</td>\n",
       "      <td>98851.0</td>\n",
       "      <td>80.0</td>\n",
       "      <td>1110.0</td>\n",
       "      <td>1308.0</td>\n",
       "      <td>23.0</td>\n",
       "      <td>28.0</td>\n",
       "      <td>www.wells.edu</td>\n",
       "    </tr>\n",
       "    <tr>\n",
       "      <th>649</th>\n",
       "      <td>650.0</td>\n",
       "      <td>91</td>\n",
       "      <td>Salisbury</td>\n",
       "      <td>NC</td>\n",
       "      <td>Private</td>\n",
       "      <td>1336.0</td>\n",
       "      <td>1463.0</td>\n",
       "      <td>19807.0</td>\n",
       "      <td>23662.0</td>\n",
       "      <td>44921.0</td>\n",
       "      <td>78100.0</td>\n",
       "      <td>42.0</td>\n",
       "      <td>930.0</td>\n",
       "      <td>1100.0</td>\n",
       "      <td>18.0</td>\n",
       "      <td>23.0</td>\n",
       "      <td>www.catawba.edu</td>\n",
       "    </tr>\n",
       "  </tbody>\n",
       "</table>\n",
       "<p>650 rows × 17 columns</p>\n",
       "</div>"
      ],
      "text/plain": [
       "      Rank  Name         City  ... ACT Lower ACT Upper            Website\n",
       "0      1.0   197    Cambridge  ...      32.0      35.0    www.harvard.edu\n",
       "1      2.0   436     Stanford  ...      32.0      35.0   www.stanford.edu\n",
       "2      3.0   648    New Haven  ...      32.0      35.0       www.yale.edu\n",
       "3      4.0   271    Cambridge  ...      33.0      35.0        web.mit.edu\n",
       "4      5.0   350    Princeton  ...      31.0      35.0  www.princeton.edu\n",
       "..     ...   ...          ...  ...       ...       ...                ...\n",
       "645  646.0   308   Las Cruces  ...      18.0      23.0       www.nmsu.edu\n",
       "646  647.0   219  Terre Haute  ...      17.0      23.0   www.indstate.edu\n",
       "647  648.0   156        Emory  ...      19.0      25.0        www.ehc.edu\n",
       "648  649.0   619       Aurora  ...      23.0      28.0      www.wells.edu\n",
       "649  650.0    91    Salisbury  ...      18.0      23.0    www.catawba.edu\n",
       "\n",
       "[650 rows x 17 columns]"
      ]
     },
     "execution_count": 45,
     "metadata": {
      "tags": []
     },
     "output_type": "execute_result"
    }
   ],
   "source": [
    "from sklearn.preprocessing import LabelEncoder\n",
    "ftr_list=['Name']\n",
    "encoder=LabelEncoder()\n",
    "for ftr in ftr_list:\n",
    "  df[ftr]=encoder.fit_transform(df[ftr])\n",
    "  print(encoder.classes_)\n",
    "\n",
    "df"
   ]
  },
  {
   "cell_type": "code",
   "execution_count": 42,
   "metadata": {
    "colab": {
     "base_uri": "https://localhost:8080/"
    },
    "id": "VGKD6aZFVlvI",
    "outputId": "d41a505d-a520-4725-da0b-b4aaf3f8cf84"
   },
   "outputs": [
    {
     "name": "stdout",
     "output_type": "stream",
     "text": [
      "(520, 17)\n",
      "(130, 17)\n"
     ]
    }
   ],
   "source": [
    "from sklearn.model_selection import train_test_split\n",
    "train_df,test_df=train_test_split(df,test_size=0.2,random_state=5)\n",
    "print(train_df.shape)\n",
    "print(test_df.shape)"
   ]
  },
  {
   "cell_type": "code",
   "execution_count": 43,
   "metadata": {
    "id": "WXSkZdLxVqeS"
   },
   "outputs": [],
   "source": [
    "from sklearn.ensemble import RandomForestClassifier\n",
    "from sklearn.linear_model import LogisticRegression\n",
    "from sklearn.metrics import accuracy_score\n",
    "def print_model_scores(model,data,predictor,target):\n",
    "  model.fit(data[predictor],data[target])\n",
    "  predictions=model.predict(data[predictor])\n",
    "  accuracy=accuracy_score(predictions,data[target])\n",
    "  print('Accuracy: %s'%'{0:2}'.format(accuracy))"
   ]
  },
  {
   "cell_type": "code",
   "execution_count": 48,
   "metadata": {
    "colab": {
     "base_uri": "https://localhost:8080/"
    },
    "id": "SKsbBiqZWBEE",
    "outputId": "2af25d97-7701-43f1-e1b3-8c4839418197"
   },
   "outputs": [
    {
     "name": "stderr",
     "output_type": "stream",
     "text": [
      "/usr/local/lib/python3.7/dist-packages/ipykernel_launcher.py:5: DataConversionWarning: A column-vector y was passed when a 1d array was expected. Please change the shape of y to (n_samples,), for example using ravel().\n",
      "  \"\"\"\n"
     ]
    },
    {
     "name": "stdout",
     "output_type": "stream",
     "text": [
      "Accuracy: 0.8192307692307692\n"
     ]
    }
   ],
   "source": [
    "model=RandomForestClassifier(n_estimators=100)\n",
    "target_var=[\"Name\"]\n",
    "predictor_var=['ACT Lower','SAT Lower','ACT Upper','SAT Upper']\n",
    "print_model_scores(model,train_df,predictor_var,target_var)"
   ]
  },
  {
   "cell_type": "code",
   "execution_count": 50,
   "metadata": {
    "colab": {
     "base_uri": "https://localhost:8080/"
    },
    "id": "d9xL2-tjWdfT",
    "outputId": "53046d86-919d-4ee4-fb22-c72af883c23e"
   },
   "outputs": [
    {
     "name": "stdout",
     "output_type": "stream",
     "text": [
      "['University of Alabama, Birmingham']\n"
     ]
    }
   ],
   "source": [
    "ACT_Lower=21\n",
    "SAT_Lower=1000\n",
    "ACT_Upper=35\n",
    "SAT_Upper=1500\n",
    "inp=[ACT_Lower,SAT_Lower,ACT_Upper,SAT_Upper]\n",
    "inp=np.array(inp).reshape((1,-1))\n",
    "output=model.predict(inp)\n",
    "print(output)\n"
   ]
  }
 ],
 "metadata": {
  "colab": {
   "authorship_tag": "ABX9TyNXPZqVFpa07F+IoRcQVTLb",
   "include_colab_link": true,
   "name": "America top colleges.ipynb",
   "provenance": []
  },
  "kernelspec": {
   "display_name": "Python 3",
   "language": "python",
   "name": "python3"
  },
  "language_info": {
   "codemirror_mode": {
    "name": "ipython",
    "version": 3
   },
   "file_extension": ".py",
   "mimetype": "text/x-python",
   "name": "python",
   "nbconvert_exporter": "python",
   "pygments_lexer": "ipython3",
   "version": "3.8.3"
  }
 },
 "nbformat": 4,
 "nbformat_minor": 1
}
